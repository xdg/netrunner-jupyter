{
 "cells": [
  {
   "cell_type": "markdown",
   "metadata": {},
   "source": [
    "# Code"
   ]
  },
  {
   "cell_type": "code",
   "execution_count": null,
   "metadata": {},
   "outputs": [],
   "source": [
    "import warnings\n",
    "\n",
    "warnings.simplefilter(action=\"ignore\", category=FutureWarning)\n",
    "\n",
    "import jupyter_black\n",
    "\n",
    "jupyter_black.load()\n",
    "\n",
    "import pandas as pd\n",
    "import seaborn as sns\n",
    "import matplotlib.pyplot as plt\n",
    "import epiphany as ep"
   ]
  },
  {
   "cell_type": "markdown",
   "metadata": {},
   "source": [
    "# Data"
   ]
  },
  {
   "cell_type": "code",
   "execution_count": null,
   "metadata": {},
   "outputs": [],
   "source": [
    "# Initialize Identity globals from the netrunnerdb database\n",
    "id_df = ep.get_id_data_from_file(\"data/cards/cards.json\")"
   ]
  },
  {
   "cell_type": "code",
   "execution_count": null,
   "metadata": {},
   "outputs": [],
   "source": [
    "# Meta constants for graph titles and filenames\n",
    "meta = \"RWR 2024-05 Banlist\"\n",
    "meta_file_prefix = \"rwr-2024-05\"\n",
    "\n",
    "tournaments = [\n",
    "    [\"2024-05-25-brisbane-h1-co\", \"aesops\"],\n",
    "    [\"2024-05-25-calgary-h1-co\", \"aesops\"],\n",
    "    [\"2024-05-25-fly-to-emea-online-gnk\", \"aesops\"],\n",
    "    [\"2024-05-25-nanpc-boston\", \"aesops\"],\n",
    "    [\"2024-05-25-st-petersburg-h1-co\", \"aesops\"],\n",
    "    [\"2024-05-26-warwick-h1-co\", \"aesops\"],\n",
    "    [\"2024-06-01-american-continental-online\", \"aesops\"],\n",
    "    [\"2024-06-02-sansan-south-gnk\", \"aesops\"],\n",
    "    [\"2024-06-02-worcester-co-h1\", \"aesops\"],\n",
    "]"
   ]
  },
  {
   "cell_type": "code",
   "execution_count": null,
   "metadata": {},
   "outputs": [],
   "source": [
    "# load data for all tournaments\n",
    "flattened_matches, paired_matches = ep.aggregate_tournament_data(id_df, tournaments)"
   ]
  },
  {
   "cell_type": "code",
   "execution_count": null,
   "metadata": {},
   "outputs": [],
   "source": [
    "paired_matches.to_csv(f\"output/{meta_file_prefix}-paired-matches.csv\")"
   ]
  },
  {
   "cell_type": "markdown",
   "metadata": {},
   "source": [
    "# ID Win Rates"
   ]
  },
  {
   "cell_type": "code",
   "execution_count": null,
   "metadata": {},
   "outputs": [],
   "source": [
    "ep.get_runner_win_rate(flattened_matches)"
   ]
  },
  {
   "cell_type": "code",
   "execution_count": null,
   "metadata": {},
   "outputs": [],
   "source": [
    "ep.get_corp_win_rate(flattened_matches)"
   ]
  },
  {
   "cell_type": "markdown",
   "metadata": {},
   "source": [
    "# Matchup Matrix"
   ]
  },
  {
   "cell_type": "code",
   "execution_count": null,
   "metadata": {},
   "outputs": [],
   "source": [
    "ep.get_heatmap(meta, ep.get_paired_winrate(paired_matches), 2)"
   ]
  },
  {
   "cell_type": "markdown",
   "metadata": {},
   "source": [
    "# Popularity Over Time"
   ]
  },
  {
   "cell_type": "code",
   "execution_count": null,
   "metadata": {},
   "outputs": [],
   "source": [
    "corp_popularity_by_month_pct = ep.get_corp_popularity_by_month(flattened_matches)"
   ]
  },
  {
   "cell_type": "code",
   "execution_count": null,
   "metadata": {},
   "outputs": [],
   "source": [
    "runner_popularity_by_month_pct = ep.get_runner_popularity_by_month(flattened_matches)"
   ]
  },
  {
   "cell_type": "code",
   "execution_count": null,
   "metadata": {},
   "outputs": [],
   "source": [
    "ep.plot_corp_popularity_two_up(\n",
    "    corp_popularity_by_month_pct,\n",
    "    f\"{meta} - Deck popularity\",\n",
    "    ep.hb,\n",
    "    ep.nbn,\n",
    ")"
   ]
  },
  {
   "cell_type": "code",
   "execution_count": null,
   "metadata": {},
   "outputs": [],
   "source": [
    "ep.plot_corp_popularity_two_up(\n",
    "    corp_popularity_by_month_pct,\n",
    "    f\"{meta} - Deck popularity\",\n",
    "    ep.jinteki,\n",
    "    ep.weyland,\n",
    ")"
   ]
  },
  {
   "cell_type": "code",
   "execution_count": null,
   "metadata": {},
   "outputs": [],
   "source": [
    "ep.plot_runner_popularity_two_up(\n",
    "    runner_popularity_by_month_pct,\n",
    "    f\"{meta} - Deck popularity\",\n",
    "    ep.anarch,\n",
    "    ep.criminal,\n",
    ")"
   ]
  },
  {
   "cell_type": "code",
   "execution_count": null,
   "metadata": {},
   "outputs": [],
   "source": [
    "ep.plot_runner_popularity_two_up(\n",
    "    runner_popularity_by_month_pct,\n",
    "    f\"{meta} - Deck popularity\",\n",
    "    ep.shaper,\n",
    "    \"\",  # disable graph\n",
    ")"
   ]
  },
  {
   "cell_type": "markdown",
   "metadata": {},
   "source": [
    "# Deck Win Rates Over Time"
   ]
  },
  {
   "cell_type": "code",
   "execution_count": null,
   "metadata": {},
   "outputs": [],
   "source": [
    "corp_win_rate_by_event_month = ep.get_corp_win_rate_by_event_month(flattened_matches)"
   ]
  },
  {
   "cell_type": "code",
   "execution_count": null,
   "metadata": {},
   "outputs": [],
   "source": [
    "runner_win_rate_by_event_month = ep.get_runner_win_rate_by_event_month(flattened_matches)"
   ]
  },
  {
   "cell_type": "code",
   "execution_count": null,
   "metadata": {},
   "outputs": [],
   "source": [
    "ep.plot_corp_win_rate_over_time(\n",
    "    corp_win_rate_by_event_month, f\"{meta} - Deck win rates by ID\", ep.hb\n",
    ")"
   ]
  },
  {
   "cell_type": "code",
   "execution_count": null,
   "metadata": {},
   "outputs": [],
   "source": [
    "ep.plot_corp_win_rate_over_time(\n",
    "    corp_win_rate_by_event_month, f\"{meta} - Deck win rates by ID\", ep.nbn\n",
    ")"
   ]
  },
  {
   "cell_type": "code",
   "execution_count": null,
   "metadata": {},
   "outputs": [],
   "source": [
    "ep.plot_corp_win_rate_over_time(\n",
    "    corp_win_rate_by_event_month, f\"{meta} - Deck win rates by ID\", ep.jinteki\n",
    ")"
   ]
  },
  {
   "cell_type": "code",
   "execution_count": null,
   "metadata": {},
   "outputs": [],
   "source": [
    "ep.plot_corp_win_rate_over_time(\n",
    "    corp_win_rate_by_event_month, f\"{meta} - Deck win rates by ID\", ep.weyland\n",
    ")"
   ]
  },
  {
   "cell_type": "code",
   "execution_count": null,
   "metadata": {},
   "outputs": [],
   "source": [
    "ep.plot_runner_win_rate_over_time(\n",
    "    runner_win_rate_by_event_month, f\"{meta} - Deck win rates by ID\", ep.anarch\n",
    ")"
   ]
  },
  {
   "cell_type": "code",
   "execution_count": null,
   "metadata": {},
   "outputs": [],
   "source": [
    "ep.plot_runner_win_rate_over_time(\n",
    "    runner_win_rate_by_event_month, f\"{meta} - Deck win rates by ID\", ep.criminal\n",
    ")"
   ]
  },
  {
   "cell_type": "code",
   "execution_count": null,
   "metadata": {},
   "outputs": [],
   "source": [
    "ep.plot_runner_win_rate_over_time(\n",
    "    runner_win_rate_by_event_month, f\"{meta} - Deck win rates by ID\", ep.shaper\n",
    ")"
   ]
  },
  {
   "cell_type": "code",
   "execution_count": null,
   "metadata": {},
   "outputs": [],
   "source": [
    "best_corp_decks = corp_win_rate_by_event_month.sort_values(\n",
    "    by=\"win_ratio\", ascending=False\n",
    ").reset_index(drop=True)\n",
    "best_corp_decks[(best_corp_decks[\"matches_played\"] > 3)].head(20)"
   ]
  },
  {
   "cell_type": "code",
   "execution_count": null,
   "metadata": {},
   "outputs": [],
   "source": [
    "best_runner_decks = runner_win_rate_by_event_month.sort_values(\n",
    "    by=\"win_ratio\", ascending=False\n",
    ").reset_index(drop=True)\n",
    "best_runner_decks[(best_runner_decks[\"matches_played\"] > 3)].head(20)"
   ]
  },
  {
   "cell_type": "code",
   "execution_count": null,
   "metadata": {},
   "outputs": [],
   "source": []
  }
 ],
 "metadata": {
  "kernelspec": {
   "display_name": "Python 3 (ipykernel)",
   "language": "python",
   "name": "python3"
  },
  "language_info": {
   "codemirror_mode": {
    "name": "ipython",
    "version": 3
   },
   "file_extension": ".py",
   "mimetype": "text/x-python",
   "name": "python",
   "nbconvert_exporter": "python",
   "pygments_lexer": "ipython3",
   "version": "3.12.1"
  }
 },
 "nbformat": 4,
 "nbformat_minor": 4
}
